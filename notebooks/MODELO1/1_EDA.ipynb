{
 "cells": [
  {
   "cell_type": "markdown",
   "metadata": {},
   "source": [
    "# Exploración inicial de los datos y tratamiento de estos."
   ]
  },
  {
   "cell_type": "markdown",
   "metadata": {},
   "source": [
    "## Indice\n",
    "(a veces al pulsar, hay que hacer un poco de scroll hacia arriba)\n",
    "\n",
    "<a href=\"#gestionamos-los-nulos\">Gestion Nulos</a>"
   ]
  },
  {
   "cell_type": "code",
   "execution_count": 31,
   "metadata": {},
   "outputs": [
    {
     "name": "stdout",
     "output_type": "stream",
     "text": [
      "The autoreload extension is already loaded. To reload it, use:\n",
      "  %reload_ext autoreload\n"
     ]
    }
   ],
   "source": [
    "%load_ext autoreload\n",
    "%autoreload 2\n",
    "\n",
    "# Tratamiento de datos\n",
    "# -----------------------------------------------------------------------\n",
    "import pandas as pd\n",
    "import numpy as np\n",
    "\n",
    "# Visualizaciones\n",
    "# -----------------------------------------------------------------------\n",
    "import seaborn as sns\n",
    "import matplotlib.pyplot as plt\n",
    "\n",
    "# Vigilar progreso bucles\n",
    "# -----------------------------------------------------------------------\n",
    "from tqdm import tqdm\n",
    "\n",
    "# Gestionar los warnings\n",
    "# -----------------------------------------------------------------------\n",
    "import warnings\n",
    "\n",
    "# modificar el path\n",
    "# -----------------------------------------------------------------------\n",
    "import sys\n",
    "sys.path.append(\"../..\")\n",
    "\n",
    "# importar funciones de soporte\n",
    "# -----------------------------------------------------------------------\n",
    "from src import soporte_preprocesamiento as sup_prep\n",
    "from src import soporte_nulos as sup_nul\n",
    "\n",
    "##aplicar configuraciones\n",
    "#------------------------------------------------------------------------\n",
    "warnings.filterwarnings('ignore')\n",
    "pd.set_option('display.max_info_columns', 50)\n",
    "pd.set_option('display.max_rows', None)\n",
    "pd.set_option('display.max_columns', None)\n",
    "pd.set_option('display.float_format', '{:.2f}'.format) #eliminamos la notacion cientifica\n",
    "\n",
    "tqdm.pandas()"
   ]
  },
  {
   "cell_type": "markdown",
   "metadata": {},
   "source": [
    "---\n",
    "---"
   ]
  },
  {
   "cell_type": "markdown",
   "metadata": {},
   "source": [
    "## Importamos los datos"
   ]
  },
  {
   "cell_type": "code",
   "execution_count": 32,
   "metadata": {},
   "outputs": [
    {
     "data": {
      "text/html": [
       "<div>\n",
       "<style scoped>\n",
       "    .dataframe tbody tr th:only-of-type {\n",
       "        vertical-align: middle;\n",
       "    }\n",
       "\n",
       "    .dataframe tbody tr th {\n",
       "        vertical-align: top;\n",
       "    }\n",
       "\n",
       "    .dataframe thead th {\n",
       "        text-align: right;\n",
       "    }\n",
       "</style>\n",
       "<table border=\"1\" class=\"dataframe\">\n",
       "  <thead>\n",
       "    <tr style=\"text-align: right;\">\n",
       "      <th></th>\n",
       "      <th>propertyCode</th>\n",
       "      <th>numPhotos</th>\n",
       "      <th>price</th>\n",
       "      <th>propertyType</th>\n",
       "      <th>operation</th>\n",
       "      <th>size</th>\n",
       "      <th>exterior</th>\n",
       "      <th>rooms</th>\n",
       "      <th>bathrooms</th>\n",
       "      <th>address</th>\n",
       "      <th>province</th>\n",
       "      <th>municipality</th>\n",
       "      <th>country</th>\n",
       "      <th>latitude</th>\n",
       "      <th>longitude</th>\n",
       "      <th>showAddress</th>\n",
       "      <th>distance</th>\n",
       "      <th>description</th>\n",
       "      <th>hasVideo</th>\n",
       "      <th>status</th>\n",
       "      <th>newDevelopment</th>\n",
       "      <th>priceByArea</th>\n",
       "      <th>detailedType</th>\n",
       "      <th>suggestedTexts</th>\n",
       "      <th>hasPlan</th>\n",
       "      <th>has3DTour</th>\n",
       "      <th>has360</th>\n",
       "      <th>hasStaging</th>\n",
       "      <th>superTopHighlight</th>\n",
       "      <th>topNewDevelopment</th>\n",
       "      <th>externalReference</th>\n",
       "      <th>floor</th>\n",
       "      <th>district</th>\n",
       "      <th>neighborhood</th>\n",
       "      <th>hasLift</th>\n",
       "      <th>parkingSpace</th>\n",
       "      <th>labels</th>\n",
       "      <th>newDevelopmentFinished</th>\n",
       "    </tr>\n",
       "  </thead>\n",
       "  <tbody>\n",
       "    <tr>\n",
       "      <th>254</th>\n",
       "      <td>98069014</td>\n",
       "      <td>19</td>\n",
       "      <td>670.00</td>\n",
       "      <td>flat</td>\n",
       "      <td>rent</td>\n",
       "      <td>79.00</td>\n",
       "      <td>True</td>\n",
       "      <td>2</td>\n",
       "      <td>2</td>\n",
       "      <td>Calle Valle de Ambles, 2</td>\n",
       "      <td>Madrid</td>\n",
       "      <td>Torrejón de Ardoz</td>\n",
       "      <td>es</td>\n",
       "      <td>404.430.651</td>\n",
       "      <td>-34.659.877</td>\n",
       "      <td>True</td>\n",
       "      <td>20294</td>\n",
       "      <td>VIVIENDA NUEVA PARA ALQUILER ¡Estrena hogar co...</td>\n",
       "      <td>False</td>\n",
       "      <td>newdevelopment</td>\n",
       "      <td>True</td>\n",
       "      <td>8.00</td>\n",
       "      <td>{'typology': 'flat'}</td>\n",
       "      <td>{'subtitle': 'Suroeste, Torrejón de Ardoz', 't...</td>\n",
       "      <td>True</td>\n",
       "      <td>False</td>\n",
       "      <td>False</td>\n",
       "      <td>False</td>\n",
       "      <td>False</td>\n",
       "      <td>False</td>\n",
       "      <td>VT07</td>\n",
       "      <td>NaN</td>\n",
       "      <td>Suroeste</td>\n",
       "      <td>NaN</td>\n",
       "      <td>True</td>\n",
       "      <td>{'hasParkingSpace': True, 'isParkingSpaceInclu...</td>\n",
       "      <td>NaN</td>\n",
       "      <td>True</td>\n",
       "    </tr>\n",
       "    <tr>\n",
       "      <th>396</th>\n",
       "      <td>94942985</td>\n",
       "      <td>15</td>\n",
       "      <td>730.00</td>\n",
       "      <td>flat</td>\n",
       "      <td>rent</td>\n",
       "      <td>52.00</td>\n",
       "      <td>True</td>\n",
       "      <td>1</td>\n",
       "      <td>1</td>\n",
       "      <td>Calle Cantueso</td>\n",
       "      <td>Madrid</td>\n",
       "      <td>Madrid</td>\n",
       "      <td>es</td>\n",
       "      <td>404.695.795</td>\n",
       "      <td>-3.703.982</td>\n",
       "      <td>False</td>\n",
       "      <td>5879</td>\n",
       "      <td>Bonito apartamento de un dormitorio independie...</td>\n",
       "      <td>True</td>\n",
       "      <td>good</td>\n",
       "      <td>False</td>\n",
       "      <td>14.00</td>\n",
       "      <td>{'typology': 'flat'}</td>\n",
       "      <td>{'subtitle': 'Valdeacederas, Madrid', 'title':...</td>\n",
       "      <td>False</td>\n",
       "      <td>False</td>\n",
       "      <td>False</td>\n",
       "      <td>False</td>\n",
       "      <td>False</td>\n",
       "      <td>False</td>\n",
       "      <td>Cantueso</td>\n",
       "      <td>bj</td>\n",
       "      <td>Tetuán</td>\n",
       "      <td>Valdeacederas</td>\n",
       "      <td>True</td>\n",
       "      <td>NaN</td>\n",
       "      <td>[{'name': 'apartamentoType', 'text': 'Apartame...</td>\n",
       "      <td>NaN</td>\n",
       "    </tr>\n",
       "    <tr>\n",
       "      <th>431</th>\n",
       "      <td>97580901</td>\n",
       "      <td>34</td>\n",
       "      <td>750.00</td>\n",
       "      <td>flat</td>\n",
       "      <td>rent</td>\n",
       "      <td>90.00</td>\n",
       "      <td>True</td>\n",
       "      <td>3</td>\n",
       "      <td>2</td>\n",
       "      <td>Campo Real</td>\n",
       "      <td>Madrid</td>\n",
       "      <td>Campo Real</td>\n",
       "      <td>es</td>\n",
       "      <td>403.387.599</td>\n",
       "      <td>-33.797.774</td>\n",
       "      <td>False</td>\n",
       "      <td>28736</td>\n",
       "      <td>Este magnífico piso en Campo Real, Madrid, tie...</td>\n",
       "      <td>False</td>\n",
       "      <td>good</td>\n",
       "      <td>False</td>\n",
       "      <td>8.00</td>\n",
       "      <td>{'typology': 'flat'}</td>\n",
       "      <td>{'subtitle': 'Campo Real', 'title': 'Piso'}</td>\n",
       "      <td>False</td>\n",
       "      <td>False</td>\n",
       "      <td>False</td>\n",
       "      <td>False</td>\n",
       "      <td>False</td>\n",
       "      <td>False</td>\n",
       "      <td>JARR22-28</td>\n",
       "      <td>2</td>\n",
       "      <td>NaN</td>\n",
       "      <td>NaN</td>\n",
       "      <td>True</td>\n",
       "      <td>{'hasParkingSpace': True, 'isParkingSpaceInclu...</td>\n",
       "      <td>NaN</td>\n",
       "      <td>NaN</td>\n",
       "    </tr>\n",
       "  </tbody>\n",
       "</table>\n",
       "</div>"
      ],
      "text/plain": [
       "     propertyCode  numPhotos  price propertyType operation  size  exterior  \\\n",
       "254      98069014         19 670.00         flat      rent 79.00      True   \n",
       "396      94942985         15 730.00         flat      rent 52.00      True   \n",
       "431      97580901         34 750.00         flat      rent 90.00      True   \n",
       "\n",
       "     rooms  bathrooms                   address province       municipality  \\\n",
       "254      2          2  Calle Valle de Ambles, 2   Madrid  Torrejón de Ardoz   \n",
       "396      1          1            Calle Cantueso   Madrid             Madrid   \n",
       "431      3          2                Campo Real   Madrid         Campo Real   \n",
       "\n",
       "    country     latitude    longitude  showAddress  distance  \\\n",
       "254      es  404.430.651  -34.659.877         True     20294   \n",
       "396      es  404.695.795   -3.703.982        False      5879   \n",
       "431      es  403.387.599  -33.797.774        False     28736   \n",
       "\n",
       "                                           description hasVideo  \\\n",
       "254  VIVIENDA NUEVA PARA ALQUILER ¡Estrena hogar co...    False   \n",
       "396  Bonito apartamento de un dormitorio independie...     True   \n",
       "431  Este magnífico piso en Campo Real, Madrid, tie...    False   \n",
       "\n",
       "             status newDevelopment  priceByArea          detailedType  \\\n",
       "254  newdevelopment           True         8.00  {'typology': 'flat'}   \n",
       "396            good          False        14.00  {'typology': 'flat'}   \n",
       "431            good          False         8.00  {'typology': 'flat'}   \n",
       "\n",
       "                                        suggestedTexts hasPlan has3DTour  \\\n",
       "254  {'subtitle': 'Suroeste, Torrejón de Ardoz', 't...    True     False   \n",
       "396  {'subtitle': 'Valdeacederas, Madrid', 'title':...   False     False   \n",
       "431        {'subtitle': 'Campo Real', 'title': 'Piso'}   False     False   \n",
       "\n",
       "    has360 hasStaging superTopHighlight topNewDevelopment externalReference  \\\n",
       "254  False      False             False             False              VT07   \n",
       "396  False      False             False             False          Cantueso   \n",
       "431  False      False             False             False         JARR22-28   \n",
       "\n",
       "    floor  district   neighborhood hasLift  \\\n",
       "254   NaN  Suroeste            NaN    True   \n",
       "396    bj    Tetuán  Valdeacederas    True   \n",
       "431     2       NaN            NaN    True   \n",
       "\n",
       "                                          parkingSpace  \\\n",
       "254  {'hasParkingSpace': True, 'isParkingSpaceInclu...   \n",
       "396                                                NaN   \n",
       "431  {'hasParkingSpace': True, 'isParkingSpaceInclu...   \n",
       "\n",
       "                                                labels newDevelopmentFinished  \n",
       "254                                                NaN                   True  \n",
       "396  [{'name': 'apartamentoType', 'text': 'Apartame...                    NaN  \n",
       "431                                                NaN                    NaN  "
      ]
     },
     "execution_count": 32,
     "metadata": {},
     "output_type": "execute_result"
    }
   ],
   "source": [
    "df = pd.read_csv('../../datos/api_rent_madrid.csv', sep=';')\n",
    "df.sample(3)"
   ]
  },
  {
   "cell_type": "markdown",
   "metadata": {},
   "source": [
    "---\n",
    "---"
   ]
  },
  {
   "cell_type": "markdown",
   "metadata": {},
   "source": [
    "## Lo primero de todo, vemos si tenemos duplicados y si es así, los eliminamos."
   ]
  },
  {
   "cell_type": "code",
   "execution_count": 33,
   "metadata": {},
   "outputs": [
    {
     "data": {
      "text/plain": [
       "8"
      ]
     },
     "execution_count": 33,
     "metadata": {},
     "output_type": "execute_result"
    }
   ],
   "source": [
    "df.duplicated().sum()"
   ]
  },
  {
   "cell_type": "code",
   "execution_count": 34,
   "metadata": {},
   "outputs": [],
   "source": [
    "df.drop_duplicates(inplace=True)"
   ]
  },
  {
   "cell_type": "code",
   "execution_count": 35,
   "metadata": {},
   "outputs": [
    {
     "data": {
      "text/plain": [
       "0"
      ]
     },
     "execution_count": 35,
     "metadata": {},
     "output_type": "execute_result"
    }
   ],
   "source": [
    "df.duplicated().sum()"
   ]
  },
  {
   "cell_type": "markdown",
   "metadata": {},
   "source": [
    "---\n",
    "---"
   ]
  },
  {
   "cell_type": "markdown",
   "metadata": {},
   "source": [
    "## Reaizamos una primera exploración sobre los datos que tenemos."
   ]
  },
  {
   "cell_type": "code",
   "execution_count": 36,
   "metadata": {},
   "outputs": [
    {
     "name": "stdout",
     "output_type": "stream",
     "text": [
      "El número de filas es 442 y el número de columnas es 38\n",
      "\n",
      "----------\n",
      "\n",
      "En este conjunto de datos tenemos 0 valores duplicados\n",
      "\n",
      "----------\n",
      "\n",
      "Las principales estadísticas de las variables númericas son:\n"
     ]
    },
    {
     "data": {
      "text/html": [
       "<div>\n",
       "<style scoped>\n",
       "    .dataframe tbody tr th:only-of-type {\n",
       "        vertical-align: middle;\n",
       "    }\n",
       "\n",
       "    .dataframe tbody tr th {\n",
       "        vertical-align: top;\n",
       "    }\n",
       "\n",
       "    .dataframe thead th {\n",
       "        text-align: right;\n",
       "    }\n",
       "</style>\n",
       "<table border=\"1\" class=\"dataframe\">\n",
       "  <thead>\n",
       "    <tr style=\"text-align: right;\">\n",
       "      <th></th>\n",
       "      <th>count</th>\n",
       "      <th>mean</th>\n",
       "      <th>std</th>\n",
       "      <th>min</th>\n",
       "      <th>25%</th>\n",
       "      <th>50%</th>\n",
       "      <th>75%</th>\n",
       "      <th>max</th>\n",
       "    </tr>\n",
       "  </thead>\n",
       "  <tbody>\n",
       "    <tr>\n",
       "      <th>propertyCode</th>\n",
       "      <td>442.00</td>\n",
       "      <td>94573262.11</td>\n",
       "      <td>13974749.91</td>\n",
       "      <td>666696.00</td>\n",
       "      <td>97550391.50</td>\n",
       "      <td>98662647.00</td>\n",
       "      <td>98894324.25</td>\n",
       "      <td>98939685.00</td>\n",
       "    </tr>\n",
       "    <tr>\n",
       "      <th>numPhotos</th>\n",
       "      <td>442.00</td>\n",
       "      <td>21.85</td>\n",
       "      <td>9.66</td>\n",
       "      <td>0.00</td>\n",
       "      <td>15.00</td>\n",
       "      <td>21.00</td>\n",
       "      <td>28.00</td>\n",
       "      <td>72.00</td>\n",
       "    </tr>\n",
       "    <tr>\n",
       "      <th>price</th>\n",
       "      <td>442.00</td>\n",
       "      <td>672.96</td>\n",
       "      <td>83.96</td>\n",
       "      <td>340.00</td>\n",
       "      <td>645.00</td>\n",
       "      <td>700.00</td>\n",
       "      <td>740.00</td>\n",
       "      <td>750.00</td>\n",
       "    </tr>\n",
       "    <tr>\n",
       "      <th>size</th>\n",
       "      <td>442.00</td>\n",
       "      <td>67.96</td>\n",
       "      <td>35.87</td>\n",
       "      <td>20.00</td>\n",
       "      <td>46.25</td>\n",
       "      <td>62.00</td>\n",
       "      <td>80.00</td>\n",
       "      <td>371.00</td>\n",
       "    </tr>\n",
       "    <tr>\n",
       "      <th>rooms</th>\n",
       "      <td>442.00</td>\n",
       "      <td>1.70</td>\n",
       "      <td>0.98</td>\n",
       "      <td>0.00</td>\n",
       "      <td>1.00</td>\n",
       "      <td>2.00</td>\n",
       "      <td>2.00</td>\n",
       "      <td>6.00</td>\n",
       "    </tr>\n",
       "    <tr>\n",
       "      <th>bathrooms</th>\n",
       "      <td>442.00</td>\n",
       "      <td>1.21</td>\n",
       "      <td>0.44</td>\n",
       "      <td>1.00</td>\n",
       "      <td>1.00</td>\n",
       "      <td>1.00</td>\n",
       "      <td>1.00</td>\n",
       "      <td>3.00</td>\n",
       "    </tr>\n",
       "    <tr>\n",
       "      <th>distance</th>\n",
       "      <td>442.00</td>\n",
       "      <td>22266.39</td>\n",
       "      <td>16991.27</td>\n",
       "      <td>183.00</td>\n",
       "      <td>7089.00</td>\n",
       "      <td>20001.00</td>\n",
       "      <td>34854.75</td>\n",
       "      <td>59919.00</td>\n",
       "    </tr>\n",
       "    <tr>\n",
       "      <th>priceByArea</th>\n",
       "      <td>424.00</td>\n",
       "      <td>11.95</td>\n",
       "      <td>5.37</td>\n",
       "      <td>1.00</td>\n",
       "      <td>8.00</td>\n",
       "      <td>11.00</td>\n",
       "      <td>15.00</td>\n",
       "      <td>33.00</td>\n",
       "    </tr>\n",
       "  </tbody>\n",
       "</table>\n",
       "</div>"
      ],
      "text/plain": [
       "              count        mean         std       min         25%         50%  \\\n",
       "propertyCode 442.00 94573262.11 13974749.91 666696.00 97550391.50 98662647.00   \n",
       "numPhotos    442.00       21.85        9.66      0.00       15.00       21.00   \n",
       "price        442.00      672.96       83.96    340.00      645.00      700.00   \n",
       "size         442.00       67.96       35.87     20.00       46.25       62.00   \n",
       "rooms        442.00        1.70        0.98      0.00        1.00        2.00   \n",
       "bathrooms    442.00        1.21        0.44      1.00        1.00        1.00   \n",
       "distance     442.00    22266.39    16991.27    183.00     7089.00    20001.00   \n",
       "priceByArea  424.00       11.95        5.37      1.00        8.00       11.00   \n",
       "\n",
       "                     75%         max  \n",
       "propertyCode 98894324.25 98939685.00  \n",
       "numPhotos          28.00       72.00  \n",
       "price             740.00      750.00  \n",
       "size               80.00      371.00  \n",
       "rooms               2.00        6.00  \n",
       "bathrooms           1.00        3.00  \n",
       "distance        34854.75    59919.00  \n",
       "priceByArea        15.00       33.00  "
      ]
     },
     "metadata": {},
     "output_type": "display_data"
    },
    {
     "name": "stdout",
     "output_type": "stream",
     "text": [
      "\n",
      "----------\n",
      "\n",
      "Las principales estadísticas de las variables categóricas son:\n"
     ]
    },
    {
     "data": {
      "text/html": [
       "<div>\n",
       "<style scoped>\n",
       "    .dataframe tbody tr th:only-of-type {\n",
       "        vertical-align: middle;\n",
       "    }\n",
       "\n",
       "    .dataframe tbody tr th {\n",
       "        vertical-align: top;\n",
       "    }\n",
       "\n",
       "    .dataframe thead th {\n",
       "        text-align: right;\n",
       "    }\n",
       "</style>\n",
       "<table border=\"1\" class=\"dataframe\">\n",
       "  <thead>\n",
       "    <tr style=\"text-align: right;\">\n",
       "      <th></th>\n",
       "      <th>count</th>\n",
       "      <th>unique</th>\n",
       "      <th>top</th>\n",
       "      <th>freq</th>\n",
       "    </tr>\n",
       "  </thead>\n",
       "  <tbody>\n",
       "    <tr>\n",
       "      <th>propertyType</th>\n",
       "      <td>442</td>\n",
       "      <td>6</td>\n",
       "      <td>flat</td>\n",
       "      <td>348</td>\n",
       "    </tr>\n",
       "    <tr>\n",
       "      <th>operation</th>\n",
       "      <td>442</td>\n",
       "      <td>1</td>\n",
       "      <td>rent</td>\n",
       "      <td>442</td>\n",
       "    </tr>\n",
       "    <tr>\n",
       "      <th>address</th>\n",
       "      <td>442</td>\n",
       "      <td>405</td>\n",
       "      <td>Calle Valle de Ambles, 2</td>\n",
       "      <td>7</td>\n",
       "    </tr>\n",
       "    <tr>\n",
       "      <th>province</th>\n",
       "      <td>442</td>\n",
       "      <td>5</td>\n",
       "      <td>Madrid</td>\n",
       "      <td>353</td>\n",
       "    </tr>\n",
       "    <tr>\n",
       "      <th>municipality</th>\n",
       "      <td>442</td>\n",
       "      <td>96</td>\n",
       "      <td>Madrid</td>\n",
       "      <td>170</td>\n",
       "    </tr>\n",
       "    <tr>\n",
       "      <th>country</th>\n",
       "      <td>442</td>\n",
       "      <td>1</td>\n",
       "      <td>es</td>\n",
       "      <td>442</td>\n",
       "    </tr>\n",
       "    <tr>\n",
       "      <th>latitude</th>\n",
       "      <td>442</td>\n",
       "      <td>433</td>\n",
       "      <td>404.430.651</td>\n",
       "      <td>7</td>\n",
       "    </tr>\n",
       "    <tr>\n",
       "      <th>longitude</th>\n",
       "      <td>442</td>\n",
       "      <td>433</td>\n",
       "      <td>-34.659.877</td>\n",
       "      <td>7</td>\n",
       "    </tr>\n",
       "    <tr>\n",
       "      <th>description</th>\n",
       "      <td>441</td>\n",
       "      <td>427</td>\n",
       "      <td>VIVIENDA NUEVA PARA ALQUILER ¡Estrena hogar co...</td>\n",
       "      <td>7</td>\n",
       "    </tr>\n",
       "    <tr>\n",
       "      <th>hasVideo</th>\n",
       "      <td>424</td>\n",
       "      <td>2</td>\n",
       "      <td>False</td>\n",
       "      <td>306</td>\n",
       "    </tr>\n",
       "    <tr>\n",
       "      <th>status</th>\n",
       "      <td>424</td>\n",
       "      <td>3</td>\n",
       "      <td>good</td>\n",
       "      <td>409</td>\n",
       "    </tr>\n",
       "    <tr>\n",
       "      <th>newDevelopment</th>\n",
       "      <td>424</td>\n",
       "      <td>2</td>\n",
       "      <td>False</td>\n",
       "      <td>411</td>\n",
       "    </tr>\n",
       "    <tr>\n",
       "      <th>detailedType</th>\n",
       "      <td>424</td>\n",
       "      <td>10</td>\n",
       "      <td>{'typology': 'flat'}</td>\n",
       "      <td>336</td>\n",
       "    </tr>\n",
       "    <tr>\n",
       "      <th>suggestedTexts</th>\n",
       "      <td>424</td>\n",
       "      <td>395</td>\n",
       "      <td>{'subtitle': 'Suroeste, Torrejón de Ardoz', 't...</td>\n",
       "      <td>7</td>\n",
       "    </tr>\n",
       "    <tr>\n",
       "      <th>hasPlan</th>\n",
       "      <td>424</td>\n",
       "      <td>2</td>\n",
       "      <td>False</td>\n",
       "      <td>293</td>\n",
       "    </tr>\n",
       "    <tr>\n",
       "      <th>has3DTour</th>\n",
       "      <td>424</td>\n",
       "      <td>2</td>\n",
       "      <td>False</td>\n",
       "      <td>418</td>\n",
       "    </tr>\n",
       "    <tr>\n",
       "      <th>has360</th>\n",
       "      <td>424</td>\n",
       "      <td>2</td>\n",
       "      <td>False</td>\n",
       "      <td>337</td>\n",
       "    </tr>\n",
       "    <tr>\n",
       "      <th>hasStaging</th>\n",
       "      <td>424</td>\n",
       "      <td>1</td>\n",
       "      <td>False</td>\n",
       "      <td>424</td>\n",
       "    </tr>\n",
       "    <tr>\n",
       "      <th>superTopHighlight</th>\n",
       "      <td>424</td>\n",
       "      <td>1</td>\n",
       "      <td>False</td>\n",
       "      <td>424</td>\n",
       "    </tr>\n",
       "    <tr>\n",
       "      <th>topNewDevelopment</th>\n",
       "      <td>424</td>\n",
       "      <td>1</td>\n",
       "      <td>False</td>\n",
       "      <td>424</td>\n",
       "    </tr>\n",
       "    <tr>\n",
       "      <th>externalReference</th>\n",
       "      <td>338</td>\n",
       "      <td>335</td>\n",
       "      <td>CG-91792-0001</td>\n",
       "      <td>2</td>\n",
       "    </tr>\n",
       "    <tr>\n",
       "      <th>floor</th>\n",
       "      <td>361</td>\n",
       "      <td>13</td>\n",
       "      <td>1</td>\n",
       "      <td>94</td>\n",
       "    </tr>\n",
       "    <tr>\n",
       "      <th>district</th>\n",
       "      <td>333</td>\n",
       "      <td>96</td>\n",
       "      <td>Centro</td>\n",
       "      <td>48</td>\n",
       "    </tr>\n",
       "    <tr>\n",
       "      <th>neighborhood</th>\n",
       "      <td>174</td>\n",
       "      <td>74</td>\n",
       "      <td>Lavapiés-Embajadores</td>\n",
       "      <td>11</td>\n",
       "    </tr>\n",
       "    <tr>\n",
       "      <th>hasLift</th>\n",
       "      <td>411</td>\n",
       "      <td>2</td>\n",
       "      <td>True</td>\n",
       "      <td>226</td>\n",
       "    </tr>\n",
       "    <tr>\n",
       "      <th>parkingSpace</th>\n",
       "      <td>134</td>\n",
       "      <td>5</td>\n",
       "      <td>{'hasParkingSpace': True, 'isParkingSpaceInclu...</td>\n",
       "      <td>130</td>\n",
       "    </tr>\n",
       "    <tr>\n",
       "      <th>labels</th>\n",
       "      <td>30</td>\n",
       "      <td>1</td>\n",
       "      <td>[{'name': 'apartamentoType', 'text': 'Apartame...</td>\n",
       "      <td>30</td>\n",
       "    </tr>\n",
       "    <tr>\n",
       "      <th>newDevelopmentFinished</th>\n",
       "      <td>13</td>\n",
       "      <td>2</td>\n",
       "      <td>True</td>\n",
       "      <td>8</td>\n",
       "    </tr>\n",
       "  </tbody>\n",
       "</table>\n",
       "</div>"
      ],
      "text/plain": [
       "                       count unique  \\\n",
       "propertyType             442      6   \n",
       "operation                442      1   \n",
       "address                  442    405   \n",
       "province                 442      5   \n",
       "municipality             442     96   \n",
       "country                  442      1   \n",
       "latitude                 442    433   \n",
       "longitude                442    433   \n",
       "description              441    427   \n",
       "hasVideo                 424      2   \n",
       "status                   424      3   \n",
       "newDevelopment           424      2   \n",
       "detailedType             424     10   \n",
       "suggestedTexts           424    395   \n",
       "hasPlan                  424      2   \n",
       "has3DTour                424      2   \n",
       "has360                   424      2   \n",
       "hasStaging               424      1   \n",
       "superTopHighlight        424      1   \n",
       "topNewDevelopment        424      1   \n",
       "externalReference        338    335   \n",
       "floor                    361     13   \n",
       "district                 333     96   \n",
       "neighborhood             174     74   \n",
       "hasLift                  411      2   \n",
       "parkingSpace             134      5   \n",
       "labels                    30      1   \n",
       "newDevelopmentFinished    13      2   \n",
       "\n",
       "                                                                      top freq  \n",
       "propertyType                                                         flat  348  \n",
       "operation                                                            rent  442  \n",
       "address                                          Calle Valle de Ambles, 2    7  \n",
       "province                                                           Madrid  353  \n",
       "municipality                                                       Madrid  170  \n",
       "country                                                                es  442  \n",
       "latitude                                                      404.430.651    7  \n",
       "longitude                                                     -34.659.877    7  \n",
       "description             VIVIENDA NUEVA PARA ALQUILER ¡Estrena hogar co...    7  \n",
       "hasVideo                                                            False  306  \n",
       "status                                                               good  409  \n",
       "newDevelopment                                                      False  411  \n",
       "detailedType                                         {'typology': 'flat'}  336  \n",
       "suggestedTexts          {'subtitle': 'Suroeste, Torrejón de Ardoz', 't...    7  \n",
       "hasPlan                                                             False  293  \n",
       "has3DTour                                                           False  418  \n",
       "has360                                                              False  337  \n",
       "hasStaging                                                          False  424  \n",
       "superTopHighlight                                                   False  424  \n",
       "topNewDevelopment                                                   False  424  \n",
       "externalReference                                           CG-91792-0001    2  \n",
       "floor                                                                   1   94  \n",
       "district                                                           Centro   48  \n",
       "neighborhood                                         Lavapiés-Embajadores   11  \n",
       "hasLift                                                              True  226  \n",
       "parkingSpace            {'hasParkingSpace': True, 'isParkingSpaceInclu...  130  \n",
       "labels                  [{'name': 'apartamentoType', 'text': 'Apartame...   30  \n",
       "newDevelopmentFinished                                               True    8  "
      ]
     },
     "metadata": {},
     "output_type": "display_data"
    },
    {
     "name": "stdout",
     "output_type": "stream",
     "text": [
      "\n",
      "----------\n",
      "\n",
      "Los columnas con valores nulos y sus porcentajes son: \n"
     ]
    },
    {
     "data": {
      "text/html": [
       "<div>\n",
       "<style scoped>\n",
       "    .dataframe tbody tr th:only-of-type {\n",
       "        vertical-align: middle;\n",
       "    }\n",
       "\n",
       "    .dataframe tbody tr th {\n",
       "        vertical-align: top;\n",
       "    }\n",
       "\n",
       "    .dataframe thead th {\n",
       "        text-align: right;\n",
       "    }\n",
       "</style>\n",
       "<table border=\"1\" class=\"dataframe\">\n",
       "  <thead>\n",
       "    <tr style=\"text-align: right;\">\n",
       "      <th></th>\n",
       "      <th>%_nulos</th>\n",
       "    </tr>\n",
       "  </thead>\n",
       "  <tbody>\n",
       "    <tr>\n",
       "      <th>newDevelopmentFinished</th>\n",
       "      <td>97.06</td>\n",
       "    </tr>\n",
       "    <tr>\n",
       "      <th>labels</th>\n",
       "      <td>93.21</td>\n",
       "    </tr>\n",
       "    <tr>\n",
       "      <th>parkingSpace</th>\n",
       "      <td>69.68</td>\n",
       "    </tr>\n",
       "    <tr>\n",
       "      <th>neighborhood</th>\n",
       "      <td>60.63</td>\n",
       "    </tr>\n",
       "    <tr>\n",
       "      <th>district</th>\n",
       "      <td>24.66</td>\n",
       "    </tr>\n",
       "    <tr>\n",
       "      <th>externalReference</th>\n",
       "      <td>23.53</td>\n",
       "    </tr>\n",
       "    <tr>\n",
       "      <th>floor</th>\n",
       "      <td>18.33</td>\n",
       "    </tr>\n",
       "    <tr>\n",
       "      <th>hasLift</th>\n",
       "      <td>7.01</td>\n",
       "    </tr>\n",
       "    <tr>\n",
       "      <th>superTopHighlight</th>\n",
       "      <td>4.07</td>\n",
       "    </tr>\n",
       "    <tr>\n",
       "      <th>topNewDevelopment</th>\n",
       "      <td>4.07</td>\n",
       "    </tr>\n",
       "    <tr>\n",
       "      <th>hasStaging</th>\n",
       "      <td>4.07</td>\n",
       "    </tr>\n",
       "    <tr>\n",
       "      <th>hasVideo</th>\n",
       "      <td>4.07</td>\n",
       "    </tr>\n",
       "    <tr>\n",
       "      <th>has360</th>\n",
       "      <td>4.07</td>\n",
       "    </tr>\n",
       "    <tr>\n",
       "      <th>has3DTour</th>\n",
       "      <td>4.07</td>\n",
       "    </tr>\n",
       "    <tr>\n",
       "      <th>hasPlan</th>\n",
       "      <td>4.07</td>\n",
       "    </tr>\n",
       "    <tr>\n",
       "      <th>suggestedTexts</th>\n",
       "      <td>4.07</td>\n",
       "    </tr>\n",
       "    <tr>\n",
       "      <th>detailedType</th>\n",
       "      <td>4.07</td>\n",
       "    </tr>\n",
       "    <tr>\n",
       "      <th>priceByArea</th>\n",
       "      <td>4.07</td>\n",
       "    </tr>\n",
       "    <tr>\n",
       "      <th>newDevelopment</th>\n",
       "      <td>4.07</td>\n",
       "    </tr>\n",
       "    <tr>\n",
       "      <th>status</th>\n",
       "      <td>4.07</td>\n",
       "    </tr>\n",
       "    <tr>\n",
       "      <th>description</th>\n",
       "      <td>0.23</td>\n",
       "    </tr>\n",
       "  </tbody>\n",
       "</table>\n",
       "</div>"
      ],
      "text/plain": [
       "                        %_nulos\n",
       "newDevelopmentFinished    97.06\n",
       "labels                    93.21\n",
       "parkingSpace              69.68\n",
       "neighborhood              60.63\n",
       "district                  24.66\n",
       "externalReference         23.53\n",
       "floor                     18.33\n",
       "hasLift                    7.01\n",
       "superTopHighlight          4.07\n",
       "topNewDevelopment          4.07\n",
       "hasStaging                 4.07\n",
       "hasVideo                   4.07\n",
       "has360                     4.07\n",
       "has3DTour                  4.07\n",
       "hasPlan                    4.07\n",
       "suggestedTexts             4.07\n",
       "detailedType               4.07\n",
       "priceByArea                4.07\n",
       "newDevelopment             4.07\n",
       "status                     4.07\n",
       "description                0.23"
      ]
     },
     "metadata": {},
     "output_type": "display_data"
    }
   ],
   "source": [
    "sup_prep.exploracion_datos(df, info=False)"
   ]
  },
  {
   "cell_type": "markdown",
   "metadata": {},
   "source": [
    "### Vamos a verlo mejor mediante visualizaciones"
   ]
  },
  {
   "cell_type": "code",
   "execution_count": 37,
   "metadata": {},
   "outputs": [
    {
     "name": "stderr",
     "output_type": "stream",
     "text": [
      "8it [00:00, 26.06it/s]\n"
     ]
    },
    {
     "data": {
      "image/png": "[encoded data removed]",
      "text/plain": [
       "<Figure size 1500x500 with 8 Axes>"
      ]
     },
     "metadata": {},
     "output_type": "display_data"
    }
   ],
   "source": [
    "visualizador = sup_prep.Visualizador(df)\n",
    "visualizador.plot_numericas(color='purple', kde=True)"
   ]
  },
  {
   "cell_type": "markdown",
   "metadata": {},
   "source": [
    "---\n",
    "---"
   ]
  },
  {
   "cell_type": "markdown",
   "metadata": {},
   "source": [
    "## Dada que nuestra variable respuesta es **'price'**, voy a ver que valores tengo en algunas de las otras variables (principalmente categoricas) que apriori, considero que pueden tener relación con nuestra variable respuesta en caso de que haya que cambiar el formato o simplemente saber que valores tenemos.\n",
    "\n",
    "### (las variables numericas ya hemos visto mediante el .describe() y la visualización que de primeras, no tenemos datos raros)\n",
    "## Las variables son:\n",
    "- ```propertyType``` (Tipo de propiedad)[flat, studio, duplex, ...]\n",
    "- ```district``` (Distrito donde se encuentra la propiedad)[Centro, Villaverde, San Blas, ...]\n",
    "- ```neighborhood``` ( Barrio dentro del distrito)[Lavapiés-Embajadores, Villaverde Alto, ...]\n",
    "- ```operation``` Todos son 'rent'\n",
    "- ```province``` [Madrid, Toledo, ...]\n",
    "- ```municipality``` [Madrid, Parla, Seseña, ...]\n",
    "- ```status``` [good, newdevelopment, renew] \n",
    "- ```floor``` [1, bj, 3, ...]"
   ]
  },
  {
   "cell_type": "code",
   "execution_count": 38,
   "metadata": {},
   "outputs": [
    {
     "data": {
      "text/plain": [
       "propertyType\n",
       "flat            348\n",
       "studio           48\n",
       "duplex           19\n",
       "penthouse        16\n",
       "chalet            9\n",
       "countryHouse      2\n",
       "Name: count, dtype: int64"
      ]
     },
     "execution_count": 38,
     "metadata": {},
     "output_type": "execute_result"
    }
   ],
   "source": [
    "df['propertyType'].value_counts()"
   ]
  },
  {
   "cell_type": "code",
   "execution_count": 39,
   "metadata": {},
   "outputs": [
    {
     "data": {
      "text/plain": [
       "district\n",
       "Centro                                       48\n",
       "Villaverde                                   23\n",
       "Puente de Vallecas                           17\n",
       "El Quiñón                                    13\n",
       "Tetuán                                       13\n",
       "San Blas                                     12\n",
       "Carabanchel                                  11\n",
       "Ciudad Lineal                                10\n",
       "Latina                                        9\n",
       "Suroeste                                      9\n",
       "Arganzuela                                    7\n",
       "Villa de Vallecas                             6\n",
       "Fuencarral                                    6\n",
       "Hortaleza                                     6\n",
       "Reyes Católicos                               5\n",
       "Retiro                                        5\n",
       "Centro Urbano                                 4\n",
       "Casco Histórico                               4\n",
       "Hospital                                      4\n",
       "Reyes                                         4\n",
       "Nuevo Aranjuez-Ciudad de las Artes            4\n",
       "Barajas                                       4\n",
       "Vicálvaro                                     3\n",
       "Las Sedas - El Olivar                         3\n",
       "San José - Buenos Aires                       3\n",
       "La Alhóndiga                                  3\n",
       "Chorrillo                                     3\n",
       "Noroeste                                      3\n",
       "Fuentebella-San Felix-El Leguario             2\n",
       "Señorío de Illescas                           2\n",
       "Barrio de Salamanca                           2\n",
       "Centro - Casco Histórico                      2\n",
       "Moncloa                                       2\n",
       "El Espinar                                    2\n",
       "Rivas Futura                                  2\n",
       "Villalba Estación                             2\n",
       "Usera                                         2\n",
       "Zona Estación                                 2\n",
       "Foso-Moreras                                  2\n",
       "San Crispín - La Estación Consorcio           2\n",
       "Valdemorillo pueblo                           2\n",
       "Constitución-El Balconcillo                   2\n",
       "Parque Inlasa                                 2\n",
       "Valdepelayo - Montepinos - Arroyo Culebro     2\n",
       "Valleaguado - La Cañada                       2\n",
       "Ciudad 70                                     2\n",
       "San Isidro - Los Almendros                    2\n",
       "Val                                           2\n",
       "San Roque-Concordia-Adoratrices               2\n",
       "Parque de la Coruña - Las Suertes             2\n",
       "Getafe Centro                                 2\n",
       "Parque - Ctra de Ugena                        1\n",
       "Getafe norte                                  1\n",
       "Parla Este                                    1\n",
       "Villayuventus-Renfe                           1\n",
       "Carlos Ruiz                                   1\n",
       "Pryconsa - Poligono Europa                    1\n",
       "San Isidro                                    1\n",
       "Los Ángeles de San Rafael                     1\n",
       "Zona Pueblo                                   1\n",
       "El Nido-Las Fuentes                           1\n",
       "Pol. Industrial sur                           1\n",
       "El Mirador                                    1\n",
       "Las Lomas-Salinera-La Muñeca                  1\n",
       "El Mirador - Grillero                         1\n",
       "Las Cañas                                     1\n",
       "Buenavista                                    1\n",
       "Las Américas                                  1\n",
       "La Espinilla - Parque Blanco                  1\n",
       "Chamartín                                     1\n",
       "Seseña Nuevo                                  1\n",
       "Universidad                                   1\n",
       "Zona Estación- Centro                         1\n",
       "La Dehesa - El Pinar                          1\n",
       "Chamberí                                      1\n",
       "Valderas - Los Castillos                      1\n",
       "Casco Urbano                                  1\n",
       "Las Matas- Peñascales                         1\n",
       "Los Llanos - Valle Pardo                      1\n",
       "Ensanche                                      1\n",
       "Dehesa - El Soto                              1\n",
       "El Vallejo                                    1\n",
       "Pintores-Ferial                               1\n",
       "La Estación                                   1\n",
       "Espartales                                    1\n",
       "Bulevar - Plaza Castilla                      1\n",
       "Vega de la Moraleja                           1\n",
       "Casco Antiguo                                 1\n",
       "Parque Roma - Coronas                         1\n",
       "Parque Europa - Los Pitufos                   1\n",
       "Sudeste Industrial                            1\n",
       "Juan de Austria                               1\n",
       "Montserrat - Parque Empresarial               1\n",
       "La Montaña-El Cortijo                         1\n",
       "Zona Industrial                               1\n",
       "Alcobendas Centro                             1\n",
       "Name: count, dtype: int64"
      ]
     },
     "execution_count": 39,
     "metadata": {},
     "output_type": "execute_result"
    }
   ],
   "source": [
    "df['district'].value_counts()"
   ]
  },
  {
   "cell_type": "code",
   "execution_count": 40,
   "metadata": {},
   "outputs": [
    {
     "data": {
      "text/plain": [
       "neighborhood\n",
       "Lavapiés-Embajadores                     11\n",
       "Villaverde Alto                           9\n",
       "San Diego                                 8\n",
       "Valdeacederas                             8\n",
       "Los Rosales                               7\n",
       "Rejas                                     6\n",
       "Chueca-Justicia                           4\n",
       "Palacio                                   4\n",
       "Amposta                                   4\n",
       "Pinar del Rey                             4\n",
       "Butarque                                  4\n",
       "Palos de Moguer                           4\n",
       "Berruguete                                3\n",
       "Casco Histórico de Barajas                3\n",
       "Casco Antiguo                             3\n",
       "Ensanche de Vallecas - La Gavia           3\n",
       "Numancia                                  3\n",
       "Palomeras sureste                         3\n",
       "San Isidro                                3\n",
       "Aluche                                    3\n",
       "San Cristóbal                             3\n",
       "Águilas                                   3\n",
       "Casco Histórico de Vallecas               3\n",
       "Puerta Bonita                             2\n",
       "Ambroz                                    2\n",
       "Quintana                                  2\n",
       "Puerta del Ángel                          2\n",
       "Las Tablas                                2\n",
       "Pau de Carabanchel                        2\n",
       "Huertas-Cortes                            2\n",
       "Tres Olivos - Valverde                    2\n",
       "Bellas Vistas                             2\n",
       "Opañel                                    2\n",
       "Canillas                                  2\n",
       "Pacífico                                  2\n",
       "San Pascual                               2\n",
       "Argüelles                                 2\n",
       "Valdepelayo-Montepinos-Arroyo Culebro     2\n",
       "Pueblo Nuevo                              2\n",
       "Ventas                                    2\n",
       "Jerónimos                                 1\n",
       "Portazgo                                  1\n",
       "Pradolongo                                1\n",
       "Buena Vista                               1\n",
       "Adelfas                                   1\n",
       "Zona Centro Joven                         1\n",
       "Palomeras Bajas                           1\n",
       "Prosperidad                               1\n",
       "Simancas                                  1\n",
       "Delicias                                  1\n",
       "Pilar                                     1\n",
       "Montecarmelo                              1\n",
       "Los Cármenes                              1\n",
       "Malasaña-Universidad                      1\n",
       "Zona Pueblo                               1\n",
       "Entrevías                                 1\n",
       "Goya                                      1\n",
       "San Juan Bautista                         1\n",
       "Valderas - Los Castillos                  1\n",
       "Zona Renfe                                1\n",
       "Acacias                                   1\n",
       "Sol                                       1\n",
       "Flores                                    1\n",
       "Chopera                                   1\n",
       "Ibiza                                     1\n",
       "Trafalgar                                 1\n",
       "Vista Alegre                              1\n",
       "Las Matas- Peñascales                     1\n",
       "Almendrales                               1\n",
       "Casco Histórico de Vicálvaro              1\n",
       "Salvador                                  1\n",
       "Timón                                     1\n",
       "Lista                                     1\n",
       "Concepción                                1\n",
       "Name: count, dtype: int64"
      ]
     },
     "execution_count": 40,
     "metadata": {},
     "output_type": "execute_result"
    }
   ],
   "source": [
    "df['neighborhood'].value_counts()"
   ]
  },
  {
   "cell_type": "code",
   "execution_count": 41,
   "metadata": {},
   "outputs": [
    {
     "data": {
      "text/plain": [
       "operation\n",
       "rent    442\n",
       "Name: count, dtype: int64"
      ]
     },
     "execution_count": 41,
     "metadata": {},
     "output_type": "execute_result"
    }
   ],
   "source": [
    "df['operation'].value_counts()"
   ]
  },
  {
   "cell_type": "code",
   "execution_count": 42,
   "metadata": {},
   "outputs": [
    {
     "data": {
      "text/plain": [
       "province\n",
       "Madrid         353\n",
       "Toledo          59\n",
       "Guadalajara     21\n",
       "Segovia          8\n",
       "Ávila            1\n",
       "Name: count, dtype: int64"
      ]
     },
     "execution_count": 42,
     "metadata": {},
     "output_type": "execute_result"
    }
   ],
   "source": [
    "df['province'].value_counts()"
   ]
  },
  {
   "cell_type": "code",
   "execution_count": 43,
   "metadata": {},
   "outputs": [
    {
     "data": {
      "text/plain": [
       "municipality\n",
       "Madrid                        170\n",
       "Alcalá de Henares              22\n",
       "Parla                          14\n",
       "Seseña                         14\n",
       "Aranjuez                       11\n",
       "Torrejón de Ardoz              11\n",
       "Getafe                         10\n",
       "Guadalajara                     8\n",
       "Valdemoro                       7\n",
       "San Sebastián de los Reyes      6\n",
       "Yebes                           6\n",
       "Alcorcón                        6\n",
       "Collado Villalba                6\n",
       "Coslada                         5\n",
       "Yeles                           5\n",
       "Colmenar Viejo                  5\n",
       "El Espinar                      4\n",
       "Arganda                         4\n",
       "Pinto                           4\n",
       "Fuensalida                      4\n",
       "San Ildefonso o la Granja       4\n",
       "Illescas                        4\n",
       "Móstoles                        3\n",
       "Leganés                         3\n",
       "Miraflores de la Sierra         3\n",
       "Casarrubios del Monte           3\n",
       "Villanueva del Pardillo         3\n",
       "Cobeña                          3\n",
       "Yuncos                          3\n",
       "Guadarrama                      3\n",
       "Valdemorillo                    2\n",
       "Alovera                         2\n",
       "Yuncler                         2\n",
       "Ocaña                           2\n",
       "Rivas-Vaciamadrid               2\n",
       "San Fernando de Henares         2\n",
       "Fuenlabrada                     2\n",
       "Villa del Prado                 2\n",
       "Mocejón                         2\n",
       "Tres Cantos                     2\n",
       "Campo Real                      2\n",
       "Navalcarnero                    2\n",
       "Robledo de Chavela              2\n",
       "Camarena                        2\n",
       "El Viso de San Juan             2\n",
       "Colmenarejo                     2\n",
       "Calypo Fado                     2\n",
       "Cedillo del Condado             2\n",
       "San Lorenzo de el Escorial      2\n",
       "Las Ventas de Retamosa          2\n",
       "Azuqueca de Henares             2\n",
       "Aldea del Fresno                2\n",
       "Santa Cruz del Retamar          1\n",
       "Alameda de la Sagra             1\n",
       "Chinchón                        1\n",
       "Torrelaguna                     1\n",
       "Villalbilla                     1\n",
       "Villaviciosa de Odón            1\n",
       "Serranillos del Valle           1\n",
       "Villaseca de la Sagra           1\n",
       "Cabañas de la Sagra             1\n",
       "Las Navas del Marqués           1\n",
       "Valmojado                       1\n",
       "Pozuelo de Alarcón              1\n",
       "Sevilla la Nueva                1\n",
       "Loeches                         1\n",
       "Lominchar                       1\n",
       "Bustarviejo                     1\n",
       "Collado Mediano                 1\n",
       "Numancia de la Sagra            1\n",
       "Pedrezuela                      1\n",
       "Meco                            1\n",
       "Paracuellos de Jarama           1\n",
       "Villamanrique de Tajo           1\n",
       "Recas                           1\n",
       "Rascafría                       1\n",
       "Manzanares el Real              1\n",
       "Galapagar                       1\n",
       "Las Rozas de Madrid             1\n",
       "El Escorial                     1\n",
       "Marchamalo                      1\n",
       "Camarma de Esteruelas           1\n",
       "Pozo de Guadalajara             1\n",
       "El Molar                        1\n",
       "Navalafuente                    1\n",
       "Esquivias                       1\n",
       "Quijorna                        1\n",
       "Daganzo de Arriba               1\n",
       "El Álamo                        1\n",
       "Algete                          1\n",
       "El Casar                        1\n",
       "Los Santos de la Humosa         1\n",
       "Mataelpino                      1\n",
       "Los Molinos                     1\n",
       "Borox                           1\n",
       "Alcobendas                      1\n",
       "Name: count, dtype: int64"
      ]
     },
     "execution_count": 43,
     "metadata": {},
     "output_type": "execute_result"
    }
   ],
   "source": [
    "df['municipality'].value_counts()"
   ]
  },
  {
   "cell_type": "code",
   "execution_count": 44,
   "metadata": {},
   "outputs": [
    {
     "data": {
      "text/plain": [
       "status\n",
       "good              409\n",
       "newdevelopment     13\n",
       "renew               2\n",
       "Name: count, dtype: int64"
      ]
     },
     "execution_count": 44,
     "metadata": {},
     "output_type": "execute_result"
    }
   ],
   "source": [
    "df['status'].value_counts()"
   ]
  },
  {
   "cell_type": "markdown",
   "metadata": {},
   "source": [
    "### (aqui podemos ver algunos valores que tienen un formato diferentes a los demas que serian \"numericos\" pero no pasa nada)"
   ]
  },
  {
   "cell_type": "code",
   "execution_count": 45,
   "metadata": {},
   "outputs": [
    {
     "data": {
      "text/plain": [
       "floor\n",
       "1     94\n",
       "2     75\n",
       "bj    67\n",
       "3     59\n",
       "4     36\n",
       "5     11\n",
       "en     6\n",
       "8      5\n",
       "6      4\n",
       "st     1\n",
       "7      1\n",
       "14     1\n",
       "ss     1\n",
       "Name: count, dtype: int64"
      ]
     },
     "execution_count": 45,
     "metadata": {},
     "output_type": "execute_result"
    }
   ],
   "source": [
    "df['floor'].value_counts()"
   ]
  },
  {
   "attachments": {
    "image-2.png": {
     "image/png": "[encoded data removed]"
    }
   },
   "cell_type": "markdown",
   "metadata": {},
   "source": [
    "<h2 style=\"color: #00FFFF\"><b><u>\n",
    "CONCLUSIONES\n",
    "</u></b></h2>\n",
    "\n",
    "### 1. Hemos visto que (afortunadamente para nosotros) no tenemos valores con formatos raros en nuestras variables categoricas las cuales hemos considerado que nos pueden interesar.\n",
    "\n",
    "### 2. Para acotar mas el estudio, voy a quedarme con solo las propiedades que pertenecen a la provincia de Madrid para entrenar mi modelo ya que representan el 80% de los datos.\n",
    "\n",
    "![image-2.png](attachment:image-2.png)"
   ]
  },
  {
   "cell_type": "markdown",
   "metadata": {},
   "source": [
    "---\n",
    "---"
   ]
  },
  {
   "cell_type": "markdown",
   "metadata": {},
   "source": [
    "## Nos quedamos solo con las propiedades las cuales pertenecen a la comunidad de Madrid."
   ]
  },
  {
   "cell_type": "code",
   "execution_count": 46,
   "metadata": {},
   "outputs": [],
   "source": [
    "df_provincia_madrid = df[df['province'] == \"Madrid\"]\n",
    "df_provincia_madrid.shape\n",
    "\n",
    "# exportamos los datos\n",
    "df_provincia_madrid.to_csv('../../datos/tratados/propiedades_provincia_madrid.csv')"
   ]
  },
  {
   "cell_type": "markdown",
   "metadata": {},
   "source": [
    "---\n",
    "---"
   ]
  },
  {
   "cell_type": "markdown",
   "metadata": {},
   "source": [
    "## Redefinimos ```df```."
   ]
  },
  {
   "cell_type": "code",
   "execution_count": 47,
   "metadata": {},
   "outputs": [
    {
     "data": {
      "text/html": [
       "<div>\n",
       "<style scoped>\n",
       "    .dataframe tbody tr th:only-of-type {\n",
       "        vertical-align: middle;\n",
       "    }\n",
       "\n",
       "    .dataframe tbody tr th {\n",
       "        vertical-align: top;\n",
       "    }\n",
       "\n",
       "    .dataframe thead th {\n",
       "        text-align: right;\n",
       "    }\n",
       "</style>\n",
       "<table border=\"1\" class=\"dataframe\">\n",
       "  <thead>\n",
       "    <tr style=\"text-align: right;\">\n",
       "      <th></th>\n",
       "      <th>propertyCode</th>\n",
       "      <th>numPhotos</th>\n",
       "      <th>price</th>\n",
       "      <th>propertyType</th>\n",
       "      <th>operation</th>\n",
       "      <th>size</th>\n",
       "      <th>exterior</th>\n",
       "      <th>rooms</th>\n",
       "      <th>bathrooms</th>\n",
       "      <th>address</th>\n",
       "      <th>province</th>\n",
       "      <th>municipality</th>\n",
       "      <th>country</th>\n",
       "      <th>latitude</th>\n",
       "      <th>longitude</th>\n",
       "      <th>showAddress</th>\n",
       "      <th>distance</th>\n",
       "      <th>description</th>\n",
       "      <th>hasVideo</th>\n",
       "      <th>status</th>\n",
       "      <th>newDevelopment</th>\n",
       "      <th>priceByArea</th>\n",
       "      <th>detailedType</th>\n",
       "      <th>suggestedTexts</th>\n",
       "      <th>hasPlan</th>\n",
       "      <th>has3DTour</th>\n",
       "      <th>has360</th>\n",
       "      <th>hasStaging</th>\n",
       "      <th>superTopHighlight</th>\n",
       "      <th>topNewDevelopment</th>\n",
       "      <th>externalReference</th>\n",
       "      <th>floor</th>\n",
       "      <th>district</th>\n",
       "      <th>neighborhood</th>\n",
       "      <th>hasLift</th>\n",
       "      <th>parkingSpace</th>\n",
       "      <th>labels</th>\n",
       "      <th>newDevelopmentFinished</th>\n",
       "    </tr>\n",
       "  </thead>\n",
       "  <tbody>\n",
       "    <tr>\n",
       "      <th>166</th>\n",
       "      <td>98621281</td>\n",
       "      <td>30</td>\n",
       "      <td>750.00</td>\n",
       "      <td>flat</td>\n",
       "      <td>rent</td>\n",
       "      <td>59.00</td>\n",
       "      <td>True</td>\n",
       "      <td>2</td>\n",
       "      <td>1</td>\n",
       "      <td>Calle Sargento Barriga</td>\n",
       "      <td>Madrid</td>\n",
       "      <td>Madrid</td>\n",
       "      <td>es</td>\n",
       "      <td>403.411.511</td>\n",
       "      <td>-37.043.589</td>\n",
       "      <td>False</td>\n",
       "      <td>8400</td>\n",
       "      <td>\"PROMOCIÓN: 1 mes de alquiler GRATIS. Y además...</td>\n",
       "      <td>True</td>\n",
       "      <td>good</td>\n",
       "      <td>False</td>\n",
       "      <td>13.00</td>\n",
       "      <td>{'typology': 'flat'}</td>\n",
       "      <td>{'subtitle': 'Villaverde Alto, Madrid', 'title...</td>\n",
       "      <td>True</td>\n",
       "      <td>False</td>\n",
       "      <td>True</td>\n",
       "      <td>False</td>\n",
       "      <td>False</td>\n",
       "      <td>False</td>\n",
       "      <td>2001/20010001/757</td>\n",
       "      <td>4</td>\n",
       "      <td>Villaverde</td>\n",
       "      <td>Villaverde Alto</td>\n",
       "      <td>False</td>\n",
       "      <td>NaN</td>\n",
       "      <td>NaN</td>\n",
       "      <td>NaN</td>\n",
       "    </tr>\n",
       "  </tbody>\n",
       "</table>\n",
       "</div>"
      ],
      "text/plain": [
       "     propertyCode  numPhotos  price propertyType operation  size  exterior  \\\n",
       "166      98621281         30 750.00         flat      rent 59.00      True   \n",
       "\n",
       "     rooms  bathrooms                 address province municipality country  \\\n",
       "166      2          1  Calle Sargento Barriga   Madrid       Madrid      es   \n",
       "\n",
       "        latitude    longitude  showAddress  distance  \\\n",
       "166  403.411.511  -37.043.589        False      8400   \n",
       "\n",
       "                                           description hasVideo status  \\\n",
       "166  \"PROMOCIÓN: 1 mes de alquiler GRATIS. Y además...     True   good   \n",
       "\n",
       "    newDevelopment  priceByArea          detailedType  \\\n",
       "166          False        13.00  {'typology': 'flat'}   \n",
       "\n",
       "                                        suggestedTexts hasPlan has3DTour  \\\n",
       "166  {'subtitle': 'Villaverde Alto, Madrid', 'title...    True     False   \n",
       "\n",
       "    has360 hasStaging superTopHighlight topNewDevelopment  externalReference  \\\n",
       "166   True      False             False             False  2001/20010001/757   \n",
       "\n",
       "    floor    district     neighborhood hasLift parkingSpace labels  \\\n",
       "166     4  Villaverde  Villaverde Alto   False          NaN    NaN   \n",
       "\n",
       "    newDevelopmentFinished  \n",
       "166                    NaN  "
      ]
     },
     "execution_count": 47,
     "metadata": {},
     "output_type": "execute_result"
    }
   ],
   "source": [
    "df = pd.read_csv('../../datos/tratados/propiedades_provincia_madrid.csv', index_col=0).reset_index(drop=True)\n",
    "df.sample()"
   ]
  },
  {
   "cell_type": "markdown",
   "metadata": {},
   "source": [
    "## Ahora eliminamos variables que no nos son relevantes para nuestro estudio o no podemos usar.\n",
    "\n",
    "- ```propertyCode``` (no es relevante para nuestro estudio y genera ruido en el modelo de prediccion)\n",
    "- ```operation``` (porque todos los pisos son de alquiler)\n",
    "- ```country``` (porque todas las propiedades pertenecen a españa)\n",
    "- ```description``` (no es un dato relevante para nuestro estudio)\n",
    "- ```priceByArea``` (la eliminamos porque solo nos va a generar ruido y al final es una variable derivada de nuestra variabe repuesta 'precio')\n",
    "- ```detailedType``` (viene a ser como 'propertyType' y no nos aporta informacion nueva)\n",
    "- ```suggestedTexts``` (no nos es relevante)\n",
    "- ```hasStaging``` (tiene como valor 'False\" en todas nuestras propiedades)\n",
    "- ```superTopHighlight``` (tiene como valor 'False\" en todas nuestras propiedades)\n",
    "- ```externalReference``` (no es relevante para nuestro estudio)\n",
    "- ```parkingSpace``` (podríamos sacar más columnas de aquí, pero dado que es casi el mismo valor para todos nuestros datos, la voy a quitar por el momento)\n",
    "- ```labels``` (no es relevante para nuestro estudio)\n",
    "- ```newDevelopmentFinished``` (tenemos mas del 96% como valor nulo)\n",
    "- ```province``` (lo eliminnamos porque todas las propiedades ahora son de Madrid)\n",
    "- ```latitude``` (puede ser util en un futuro, pero para este primer modelo no lo vamos a usar)\n",
    "- ```longitude``` (puede ser util en un futuro, pero para este primer modelo no lo vamos a usar)\n",
    "- ```address``` (puede ser util en un futuro, pero para este primer modelo no lo vamos a usar)"
   ]
  },
  {
   "cell_type": "code",
   "execution_count": 48,
   "metadata": {},
   "outputs": [],
   "source": [
    "df.drop(columns=['propertyCode', 'operation', 'country', 'description', 'priceByArea', 'detailedType', 'suggestedTexts', 'hasStaging', 'superTopHighlight', 'externalReference', 'parkingSpace', 'labels', 'newDevelopmentFinished', 'province', 'latitude', 'longitude', 'address'],\n",
    "        inplace=True)"
   ]
  },
  {
   "cell_type": "markdown",
   "metadata": {},
   "source": [
    "## Vemos la correlación entre las variables."
   ]
  },
  {
   "cell_type": "code",
   "execution_count": 49,
   "metadata": {},
   "outputs": [
    {
     "data": {
      "image/png": "[encoded data removed]",
      "text/plain": [
       "<Figure size 700x500 with 2 Axes>"
      ]
     },
     "metadata": {},
     "output_type": "display_data"
    }
   ],
   "source": [
    "visualizador2 = sup_prep.Visualizador(df)\n",
    "visualizador2.correlacion()"
   ]
  },
  {
   "cell_type": "markdown",
   "metadata": {},
   "source": [
    "### Podemos ver que hay un relación entre el tamaño y el número de habitaciones y cuartos de baño que tiene la propiedad. Lo cual, tiene sentido."
   ]
  },
  {
   "cell_type": "markdown",
   "metadata": {},
   "source": [
    "---\n",
    "---"
   ]
  },
  {
   "cell_type": "markdown",
   "metadata": {},
   "source": [
    "## Gestionamos los nulos\n"
   ]
  },
  {
   "cell_type": "markdown",
   "metadata": {},
   "source": [
    "\n",
    "### separamos las variables categoricas y las numericas\n",
    "\n",
    "### Mi criterio será:\n",
    "- Entre 0 y 5%          --> rellenamos con pesos o la moda.\n",
    "- Entre un 5% y un 50%  --> rellenamos con nueva categoría 'Desconocido'.\n",
    "- Más de 50%            --> eliminamos la columna."
   ]
  },
  {
   "cell_type": "code",
   "execution_count": 50,
   "metadata": {},
   "outputs": [],
   "source": [
    "df_num, df_cat = visualizador2.separar_dataframes()"
   ]
  },
  {
   "cell_type": "markdown",
   "metadata": {},
   "source": [
    "### Vemos los nulos que tenemos en las variables categoricas"
   ]
  },
  {
   "cell_type": "code",
   "execution_count": 51,
   "metadata": {},
   "outputs": [
    {
     "data": {
      "text/plain": [
       "neighborhood        50.71\n",
       "floor               17.85\n",
       "district            14.73\n",
       "hasLift              5.10\n",
       "hasVideo             3.97\n",
       "status               3.97\n",
       "newDevelopment       3.97\n",
       "hasPlan              3.97\n",
       "has3DTour            3.97\n",
       "has360               3.97\n",
       "topNewDevelopment    3.97\n",
       "dtype: float64"
      ]
     },
     "execution_count": 51,
     "metadata": {},
     "output_type": "execute_result"
    }
   ],
   "source": [
    "sup_nul.porcentaje_nulos(df_cat)"
   ]
  },
  {
   "cell_type": "markdown",
   "metadata": {},
   "source": [
    "### Normalmente una columna con tantos nulos como **neighborhood** la eliminaría, pero como en nuestro caso el barrio es importante, imputaré los nulos con la variable 'Desconocido' al igual que haré con 'floor' y 'district'."
   ]
  },
  {
   "cell_type": "code",
   "execution_count": 52,
   "metadata": {},
   "outputs": [],
   "source": [
    "df_cat['neighborhood'].fillna('Desconocido', inplace=True)\n",
    "df_cat['floor'].fillna('Desconocido', inplace=True)\n",
    "df_cat['district'].fillna('Desconocido', inplace=True)"
   ]
  },
  {
   "cell_type": "markdown",
   "metadata": {},
   "source": [
    "### El resto de las categoricas las imputaré mediante sus pesos ya que tienen pocos valores únicos."
   ]
  },
  {
   "cell_type": "code",
   "execution_count": 53,
   "metadata": {},
   "outputs": [],
   "source": [
    "#obtenemos le resto de columnas con nulos\n",
    "columnas_nulos = sup_nul.porcentaje_nulos(df_cat).index\n",
    "\n",
    "sup_nul.imputar_mediante_pesos(dataframe=df_cat, columnas=columnas_nulos)"
   ]
  },
  {
   "cell_type": "markdown",
   "metadata": {},
   "source": [
    "### Comprobamos que no tenemos nulos en las categoricas y sustituimos los valores en el \"dataframe original\" (nos haremos una copia del original) "
   ]
  },
  {
   "cell_type": "code",
   "execution_count": 54,
   "metadata": {},
   "outputs": [
    {
     "data": {
      "text/plain": [
       "propertyType         0\n",
       "municipality         0\n",
       "hasVideo             0\n",
       "status               0\n",
       "newDevelopment       0\n",
       "hasPlan              0\n",
       "has3DTour            0\n",
       "has360               0\n",
       "topNewDevelopment    0\n",
       "floor                0\n",
       "district             0\n",
       "neighborhood         0\n",
       "hasLift              0\n",
       "dtype: int64"
      ]
     },
     "execution_count": 54,
     "metadata": {},
     "output_type": "execute_result"
    }
   ],
   "source": [
    "df_cat.isna().sum()"
   ]
  },
  {
   "cell_type": "code",
   "execution_count": 55,
   "metadata": {},
   "outputs": [],
   "source": [
    "# creamos nuestro nuevo dataframe\n",
    "df_nonuls = df.copy()\n",
    "\n",
    "# sustituimos los valores de las columnas que ya hemos tratado\n",
    "sup_nul.sustituir_valores_df(df_nonuls, df_cat, df_cat.columns)"
   ]
  },
  {
   "cell_type": "markdown",
   "metadata": {},
   "source": [
    "## Ahora vemos nuestros nulos en las varibales numericas"
   ]
  },
  {
   "cell_type": "code",
   "execution_count": 56,
   "metadata": {},
   "outputs": [
    {
     "data": {
      "text/plain": [
       "Series([], dtype: float64)"
      ]
     },
     "execution_count": 56,
     "metadata": {},
     "output_type": "execute_result"
    }
   ],
   "source": [
    "sup_nul.porcentaje_nulos(df_num)"
   ]
  },
  {
   "cell_type": "markdown",
   "metadata": {},
   "source": [
    "### Vemos que no tenemos, por lo que comprobamos si nuestro nuevo dataframe (df_nonuls) ya está libre de nulos."
   ]
  },
  {
   "cell_type": "code",
   "execution_count": 57,
   "metadata": {},
   "outputs": [
    {
     "data": {
      "text/plain": [
       "numPhotos            0\n",
       "price                0\n",
       "propertyType         0\n",
       "size                 0\n",
       "exterior             0\n",
       "rooms                0\n",
       "bathrooms            0\n",
       "municipality         0\n",
       "showAddress          0\n",
       "distance             0\n",
       "hasVideo             0\n",
       "status               0\n",
       "newDevelopment       0\n",
       "hasPlan              0\n",
       "has3DTour            0\n",
       "has360               0\n",
       "topNewDevelopment    0\n",
       "floor                0\n",
       "district             0\n",
       "neighborhood         0\n",
       "hasLift              0\n",
       "dtype: int64"
      ]
     },
     "execution_count": 57,
     "metadata": {},
     "output_type": "execute_result"
    }
   ],
   "source": [
    "df_nonuls.isna().sum()"
   ]
  },
  {
   "cell_type": "markdown",
   "metadata": {},
   "source": [
    "## Guardamos nuestros nuevos datos sin nulos"
   ]
  },
  {
   "cell_type": "code",
   "execution_count": 58,
   "metadata": {},
   "outputs": [],
   "source": [
    "df_nonuls.reset_index(drop=True, inplace=True)\n",
    "df_nonuls.to_csv('../../datos/tratados/nonuls_propiedades_provincia_madrid.csv')"
   ]
  },
  {
   "cell_type": "markdown",
   "metadata": {},
   "source": [
    "---\n",
    "---"
   ]
  },
  {
   "cell_type": "markdown",
   "metadata": {},
   "source": [
    "## Gestionamos OutLayers"
   ]
  },
  {
   "cell_type": "code",
   "execution_count": 59,
   "metadata": {},
   "outputs": [],
   "source": [
    "visualizador3 = sup_prep.Visualizador(df_nonuls)"
   ]
  },
  {
   "cell_type": "code",
   "execution_count": 60,
   "metadata": {},
   "outputs": [
    {
     "data": {
      "image/png": "[encoded data removed]",
      "text/plain": [
       "<Figure size 1500x500 with 6 Axes>"
      ]
     },
     "metadata": {},
     "output_type": "display_data"
    }
   ],
   "source": [
    "visualizador3.deteccion_outliers(color='purple')"
   ]
  },
  {
   "cell_type": "markdown",
   "metadata": {},
   "source": [
    "<h3 style=\"color: #9966CC\">\n",
    "(al no ser muchos y ser outlayers reales y \"con sentido\", de momento voy a seguir y luego profundizaré más para mejorar las metricas y sacar mejores conclusiones)\n",
    "</h3>"
   ]
  }
 ],
 "metadata": {
  "kernelspec": {
   "display_name": "proyecto4",
   "language": "python",
   "name": "python3"
  },
  "language_info": {
   "codemirror_mode": {
    "name": "ipython",
    "version": 3
   },
   "file_extension": ".py",
   "mimetype": "text/x-python",
   "name": "python",
   "nbconvert_exporter": "python",
   "pygments_lexer": "ipython3",
   "version": "3.12.4"
  }
 },
 "nbformat": 4,
 "nbformat_minor": 2
}
